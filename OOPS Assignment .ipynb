{
 "cells": [
  {
   "cell_type": "markdown",
   "id": "02525eb0-6c11-43ca-86e2-fedeaf970054",
   "metadata": {},
   "source": [
    "Python OOPs Questions"
   ]
  },
  {
   "cell_type": "markdown",
   "id": "735d604a-44b1-4fb5-b47d-bd7e2a071825",
   "metadata": {},
   "source": [
    "Q1. What is Object-Oriented Programming (OOP)?"
   ]
  },
  {
   "cell_type": "markdown",
   "id": "83c141f8-62b1-4c16-8b4c-dcae48749818",
   "metadata": {},
   "source": [
    "A1. Object-Oriented Programming (OOP) is a way of writing programs using classes and objects. It helps make code organized, reusable, and easy to understand.\n",
    "\n"
   ]
  },
  {
   "cell_type": "markdown",
   "id": "5fb75900-d4da-4e3b-9c8e-0da23c591a35",
   "metadata": {},
   "source": [
    "Q2. What is a class in OOP?\n",
    "\n"
   ]
  },
  {
   "cell_type": "markdown",
   "id": "74abd085-cd04-4996-b9c3-914e2c1cd37d",
   "metadata": {},
   "source": [
    "A2. A class in Object-Oriented Programming (OOP) is like a blueprint or template used to create objects. It defines what data (variables) and actions (methods) the object will have.\n",
    "\n"
   ]
  },
  {
   "cell_type": "markdown",
   "id": "d8b47280-7b12-4d5c-ab05-c2d76f501ef5",
   "metadata": {},
   "source": [
    "Q3. What is an object in OOP?\n",
    "\n"
   ]
  },
  {
   "cell_type": "markdown",
   "id": "ba9ffc84-1793-420d-9c89-63add2a9b164",
   "metadata": {},
   "source": [
    "A3. An object in OOP is a real-world thing created from a class. It has its own data and can do actions defined in the class. Objects help us use the code written in the class.\n",
    "\n"
   ]
  },
  {
   "cell_type": "markdown",
   "id": "fc88decb-4057-49a4-ac9a-7678162a5687",
   "metadata": {},
   "source": [
    "Q4. What is the difference between abstraction and encapsulation?\n",
    "\n"
   ]
  },
  {
   "cell_type": "markdown",
   "id": "189fbb12-c1e6-4e36-9033-701ae900b3f2",
   "metadata": {},
   "source": [
    "A4. Abstraction means hiding complex details and showing only the important things. Encapsulation means hiding data inside a class and keeping it safe from outside access.\n",
    "\n"
   ]
  },
  {
   "cell_type": "markdown",
   "id": "fae1de4a-034e-452f-9b1c-7a4575f74d19",
   "metadata": {},
   "source": [
    "Q5. What are dunder methods in Python?\n",
    "\n"
   ]
  },
  {
   "cell_type": "markdown",
   "id": "0eaf4b57-6508-4bad-bd64-c4f217cd94de",
   "metadata": {},
   "source": [
    "A5. Dunder methods in Python are special methods that start and end with double underscores, like init, str, add, etc. They are also called magic methods and are used to define how objects behave.\n",
    "\n"
   ]
  },
  {
   "cell_type": "markdown",
   "id": "2c228ab8-f662-4cfa-b1e0-a3e05ebc7347",
   "metadata": {},
   "source": [
    "Q6. Explain the concept of inheritance in OOP.\n",
    "\n"
   ]
  },
  {
   "cell_type": "markdown",
   "id": "4589277f-f383-441f-8d17-2206f5344dcb",
   "metadata": {},
   "source": [
    "A6. Inheritance in object-oriented programming means that a class can use the features of another class. The class that gives the features is called the parent class, and the one that receives them is called the child class. This helps in reusing code and makes the program easier to manage.\n",
    "\n"
   ]
  },
  {
   "cell_type": "markdown",
   "id": "f750fc71-850a-404d-92df-0db7821037b1",
   "metadata": {},
   "source": [
    "Q7. What is polymorphism in OOP?\n",
    "\n"
   ]
  },
  {
   "cell_type": "markdown",
   "id": "04bc82f9-6dec-4b4c-9b2a-8484d1865d62",
   "metadata": {},
   "source": [
    "A7. Polymorphism in object-oriented programming means having one function or method that works in different ways. It allows different classes to have methods with the same name but with different behaviors.\n",
    "\n"
   ]
  },
  {
   "cell_type": "markdown",
   "id": "0c6d1e66-39b1-497d-bfa5-74c1d86d7173",
   "metadata": {},
   "source": [
    "Q8. How is encapsulation achieved in Python?\n",
    "\n"
   ]
  },
  {
   "cell_type": "markdown",
   "id": "242a7b6c-c5d2-4f48-8377-3c984aa6a4ca",
   "metadata": {},
   "source": [
    "A8. Encapsulation in Python is achieved by hiding the internal data of a class and allowing access only through methods. This is done by making variables private using double underscores (e.g., __balance). To access or change these private variables, we use getter and setter methods. This helps protect the data from being changed directly and keeps the class safe and secure.\n",
    "\n"
   ]
  },
  {
   "cell_type": "markdown",
   "id": "8894faa8-2cf7-4133-82f9-82b4bd7cd8a5",
   "metadata": {},
   "source": [
    "Q9. What is a constructor in Python?\n",
    "\n"
   ]
  },
  {
   "cell_type": "markdown",
   "id": "4e0c0032-60a0-4d71-8f55-13e0cd3c123a",
   "metadata": {},
   "source": [
    "A9. A constructor in Python is a special method used to automatically initialize an object when it is created. In Python, the constructor method is called init(). It is used to set the initial values of object variables.\n",
    "\n"
   ]
  },
  {
   "cell_type": "markdown",
   "id": "83ad32e9-cb31-4f1b-8e90-422d56c908a8",
   "metadata": {},
   "source": [
    "Q10. What are class and static methods in Python?\n",
    "\n"
   ]
  },
  {
   "cell_type": "markdown",
   "id": "e6eb7702-f744-45b6-8716-1d0e7f590861",
   "metadata": {},
   "source": [
    "A10. Class method: A class method is a method that works with the class, not with individual objects. It is defined using the @classmethod decorator and takes cls as the first parameter. It can be used to access or change class-level variables. Static method: A static method is a method that does not need object or class data. It is defined using the @staticmethod decorator and has no self or cls parameter. It behaves like a normal function placed inside a class and is used for helper or utility functions.\n",
    "\n"
   ]
  },
  {
   "cell_type": "markdown",
   "id": "359781da-04b3-4f5f-9bf4-3c535f9f5f94",
   "metadata": {},
   "source": [
    "Q11. What is method overloading in Python?\n",
    "\n"
   ]
  },
  {
   "cell_type": "markdown",
   "id": "cea3afb3-3c08-4f4d-a4cf-82d40136219c",
   "metadata": {},
   "source": [
    "A11. Method overloading means having multiple methods with the same name but with different numbers or types of arguments. In many languages, it is supported directly, but in Python, method overloading is not supported traditionally. If you define a method more than once, the last one replaces the earlier ones.\n",
    "\n"
   ]
  },
  {
   "cell_type": "markdown",
   "id": "99d12abc-0d72-43db-95ab-98e3f1df1d81",
   "metadata": {},
   "source": [
    "Q12. What is method overriding in OOP?\n",
    "\n"
   ]
  },
  {
   "cell_type": "markdown",
   "id": "65e45561-edcb-4939-a795-82cc7c6e8598",
   "metadata": {},
   "source": [
    "A12. Method overriding in Object-Oriented Programming (OOP) is when a child class provides a new definition for a method that is already defined in its parent class. The child class replaces the parent’s method with its own version. This allows the child class to change or extend the behavior of the parent class method. The method in the child class must have the same name and parameters as the one in the parent class.\n",
    "\n"
   ]
  },
  {
   "cell_type": "markdown",
   "id": "905fec4b-9d94-4ee4-9fbe-c06a3c15f9db",
   "metadata": {},
   "source": [
    "Q13. What is a property decorator in Python?\n",
    "\n"
   ]
  },
  {
   "cell_type": "markdown",
   "id": "ab431d21-d5fe-490b-9b95-f84219595b58",
   "metadata": {},
   "source": [
    "A13. The property decorator in Python is used to define a method as an attribute. It allows you to create getter, setter, and deleter methods for class attributes without directly accessing them. This makes the code more readable and allows additional logic when getting or setting the value of an attribute.\n",
    "\n"
   ]
  },
  {
   "cell_type": "markdown",
   "id": "62963117-4f25-413b-997b-f4d49687f270",
   "metadata": {},
   "source": [
    "Q14. Why is polymorphism important in OOP?\n",
    "\n"
   ]
  },
  {
   "cell_type": "markdown",
   "id": "5cbd7cec-5cc2-4081-8e54-67fd98391ec3",
   "metadata": {},
   "source": [
    "A14. Polymorphism is important in Object-Oriented Programming (OOP) because it allows one function or method to work with different types of objects. It makes the code more flexible and extensible by allowing new classes to use existing methods without changing the code. With polymorphism, you can write generic code that works with many types, making it easier to manage and extend.\n",
    "\n"
   ]
  },
  {
   "cell_type": "markdown",
   "id": "7d679030-0313-4216-8064-5ee261cfec6d",
   "metadata": {},
   "source": [
    "Q15. What is an abstract class in Python?\n",
    "\n"
   ]
  },
  {
   "cell_type": "markdown",
   "id": "0e01220f-1a63-499b-9e1e-fefe819cac2c",
   "metadata": {},
   "source": [
    "A15. An abstract class in Python is a class that cannot be instantiated directly. It is used to define a blueprint for other classes. Abstract classes can have abstract methods, which are methods that are declared but do not have an implementation in the abstract class. Subclasses that inherit from an abstract class must implement these abstract methods. The abc module is used to define abstract classes in Python.\n",
    "\n"
   ]
  },
  {
   "cell_type": "markdown",
   "id": "a6534404-96be-443c-8604-de7061156a46",
   "metadata": {},
   "source": [
    "Q16. What are the advantages of OOP?\n",
    "\n"
   ]
  },
  {
   "cell_type": "markdown",
   "id": "411d0b57-062b-4afe-83f1-4b69912809ee",
   "metadata": {},
   "source": [
    "A16. Object-Oriented Programming (OOP) has several advantages. It promotes code reusability by allowing classes to be reused in different parts of a program or in other programs through inheritance. OOP also helps in organizing code by grouping related data and functions into objects, making the code more modular and easier to maintain. Additionally, OOP encourages encapsulation, which hides the internal details of objects and protects data, and polymorphism, which allows different classes to use the same method name but with different behaviors, making the code more flexible.\n",
    "\n"
   ]
  },
  {
   "cell_type": "markdown",
   "id": "105afbc0-e455-4cc7-9519-e5599579c93b",
   "metadata": {},
   "source": [
    "Q17 What is the difference between a class variable and an instance variable?\n",
    "\n"
   ]
  },
  {
   "cell_type": "markdown",
   "id": "a728b00a-bebf-44a2-884a-75ee0b89e2a9",
   "metadata": {},
   "source": [
    "A17. A class variable is a variable that is shared by all instances of a class. It is defined inside the class but outside any methods. All objects of the class have access to the same value of the class variable. An instance variable, on the other hand, is unique to each object. It is defined inside the init() method and can have different values for each instance of the class.\n",
    "\n"
   ]
  },
  {
   "cell_type": "markdown",
   "id": "bfe7047b-eee2-4d2e-9bce-1a10c893183c",
   "metadata": {},
   "source": [
    "Q18. What is multiple inheritance in Python?\n",
    "\n"
   ]
  },
  {
   "cell_type": "markdown",
   "id": "c2206b1d-c47b-47fa-833e-324886341258",
   "metadata": {},
   "source": [
    "A18. Multiple inheritance in Python occurs when a child class inherits from more than one parent class. This allows the child class to inherit attributes and methods from multiple classes. Python supports multiple inheritance, making it possible to combine features of different classes into one.\n",
    "\n"
   ]
  },
  {
   "cell_type": "markdown",
   "id": "25b22639-feea-4d76-9d05-60678f61c00d",
   "metadata": {},
   "source": [
    "Q19. Explain the purpose of ‘’str’ and ‘repr’ ‘ methods in Python.\n",
    "\n"
   ]
  },
  {
   "cell_type": "markdown",
   "id": "5b48bbc4-700e-4872-876b-808b4df6b41e",
   "metadata": {},
   "source": [
    "A19. The str and repr methods in Python are used to define how an object is represented as a string. The str method is used for creating a user-friendly or informal string representation of an object, often used by the print() function. On the other hand, repr is used to create a formal or debugging-friendly string representation that can ideally be used to recreate the object. If str is not defined, Python will use repr.\n",
    "\n"
   ]
  },
  {
   "cell_type": "markdown",
   "id": "9b96d8cd-f491-40dc-a8e4-e154243aa7ba",
   "metadata": {},
   "source": [
    "Q20. What is the significance of the ‘super()’ function in Python?\n",
    "\n"
   ]
  },
  {
   "cell_type": "markdown",
   "id": "89f7fb17-90b7-4720-b492-5874ebca5bdb",
   "metadata": {},
   "source": [
    "A20. The super() function in Python is used to call methods from a parent class inside a child class. It is commonly used in inheritance to access the parent class’s init() method or any other method. This helps in reusing the code of the parent class without rewriting it. Using super() also ensures that the method resolution order (MRO) is followed correctly, especially in multiple inheritance.\n",
    "\n",
    "\n",
    "\n"
   ]
  },
  {
   "cell_type": "markdown",
   "id": "16df80d4-6bbd-4a8b-b9a8-fe0ee678e1b4",
   "metadata": {},
   "source": [
    "Q21. What is the significance of the del method in Python?\n",
    "\n"
   ]
  },
  {
   "cell_type": "markdown",
   "id": "14c5f6e8-bafc-45ea-a160-12fabe2bbf6f",
   "metadata": {},
   "source": [
    "A21. The del method in Python is a special (dunder) method called a destructor. It is automatically called when an object is about to be deleted or destroyed, usually when it goes out of scope or the program ends. The main purpose of del is to clean up resources, such as closing files or network connections, before the object is removed from memory.\n",
    "\n"
   ]
  },
  {
   "cell_type": "markdown",
   "id": "e4dc1bec-ce51-43cb-9e50-59d8ff6d2421",
   "metadata": {},
   "source": [
    "Q22. What is the difference between @staticmethod and @classmethod in Python?\n",
    "\n"
   ]
  },
  {
   "cell_type": "markdown",
   "id": "dd128d7d-c60a-4f28-8cc5-addb5b08c256",
   "metadata": {},
   "source": [
    "A22. In Python, the @staticmethod decorator defines a method that does not need access to the class or instance. It behaves like a regular function but is placed inside a class for logical grouping. It does not take self or cls as a parameter. On the other hand, the @classmethod decorator defines a method that works with the class and takes cls as the first parameter. It can access or modify class-level variables. Both can be called using the class name or object, but they serve different purposes."
   ]
  },
  {
   "cell_type": "markdown",
   "id": "226d2346-490a-410b-90f2-149487017537",
   "metadata": {},
   "source": [
    "Q23. How does polymorphism work in Python with inheritance?\n",
    "\n"
   ]
  },
  {
   "cell_type": "markdown",
   "id": "211a950e-5b06-476a-bbed-ef567b784919",
   "metadata": {},
   "source": [
    "A23. In Python, polymorphism with inheritance means that a child class can override a method from the parent class, and when we call that method using an object, the correct version runs automatically based on the object's class. This allows the same method name to behave differently for different classes. Ex:if both Dog and Cat inherit from Animal and override the speak() method, calling speak() on a Dog object will bark, and on a Cat object will meow — even if we use a common reference like animal.speak().\n",
    "\n"
   ]
  },
  {
   "cell_type": "markdown",
   "id": "ce161a81-5a8a-4546-b4e6-68ddb9e08d3c",
   "metadata": {},
   "source": [
    "Q24. What is method chaining in Python OOP?\n",
    "\n"
   ]
  },
  {
   "cell_type": "markdown",
   "id": "6495313e-f05f-4006-b390-db61ef9c3479",
   "metadata": {},
   "source": [
    "A24. Method chaining in Python OOP is a technique where multiple methods are called on the same object in a single line, one after another. This is possible when each method returns the object itself (self), allowing the next method to be called immediately. It makes the code shorter and cleaner.\n",
    "\n"
   ]
  },
  {
   "cell_type": "markdown",
   "id": "8234388a-9f8f-4977-8176-a61372415455",
   "metadata": {},
   "source": [
    "Q25. What is the purpose of the call method in Python?\n",
    "\n"
   ]
  },
  {
   "cell_type": "markdown",
   "id": "34a1aa21-ff30-4025-a868-7e22d6d3f5c6",
   "metadata": {},
   "source": [
    "A25. The call method in Python is a special method that allows an object to be called like a function. When a class defines the call method, its objects can be used with parentheses, just like calling a function. This can be useful when you want to make objects that behave like functions or for custom behavior when the object is \"called.\" It’s commonly used in advanced programming like decorators or callable classes.\n",
    "\n"
   ]
  },
  {
   "cell_type": "markdown",
   "id": "c0d5238a-e6fe-4a97-8d9b-75f7384f4f6b",
   "metadata": {},
   "source": [
    "Practical Questions\n"
   ]
  },
  {
   "cell_type": "code",
   "execution_count": 111,
   "id": "25758905-eb08-474f-8c40-23e647506d18",
   "metadata": {},
   "outputs": [
    {
     "name": "stdout",
     "output_type": "stream",
     "text": [
      "The animal sound.\n",
      "Bark!\n"
     ]
    }
   ],
   "source": [
    "# Q1. Create a parent class Animal with a method speak() that prints a generic message. Create a child class Dog that \n",
    "# overrides the speak() method to print \"Bark!\".\n",
    "\n",
    "class Animal:\n",
    "    def speak(self):\n",
    "        print(\"The animal sound.\")\n",
    "\n",
    "class Dog(Animal):\n",
    "    def speak(self):\n",
    "        print(\"Bark!\")\n",
    "\n",
    "a = Animal()\n",
    "d = Dog()\n",
    "\n",
    "a.speak()  \n",
    "d.speak()"
   ]
  },
  {
   "cell_type": "code",
   "execution_count": 113,
   "id": "3868c122-6af1-4476-8cb8-39a57c33746a",
   "metadata": {},
   "outputs": [
    {
     "name": "stdout",
     "output_type": "stream",
     "text": [
      "Area of Circle: 78.53981633974483\n",
      "Area of Rectangle: 24\n"
     ]
    }
   ],
   "source": [
    "# Q2. Write a program to create an abstract class Shape with a method area(). Derive classes Circle and Rectangle from it\n",
    "# and implement the area() method in both.\n",
    "\n",
    "from abc import ABC, abstractmethod\n",
    "import math\n",
    "\n",
    "class Shape(ABC):\n",
    "    @abstractmethod\n",
    "    def area(self):\n",
    "        pass\n",
    "\n",
    "class Circle(Shape):\n",
    "    def __init__(self, radius):\n",
    "        self.radius = radius\n",
    "\n",
    "    def area(self):\n",
    "        return math.pi * self.radius ** 2\n",
    "\n",
    "class Rectangle(Shape):\n",
    "    def __init__(self, length, width):\n",
    "        self.length = length\n",
    "        self.width = width\n",
    "\n",
    "    def area(self):\n",
    "        return self.length * self.width\n",
    "\n",
    "circle = Circle(5)\n",
    "rectangle = Rectangle(4, 6)\n",
    "\n",
    "print(\"Area of Circle:\", circle.area())\n",
    "print(\"Area of Rectangle:\", rectangle.area())"
   ]
  },
  {
   "cell_type": "code",
   "execution_count": 115,
   "id": "036292ba-a332-49b8-9869-401707e10f81",
   "metadata": {},
   "outputs": [
    {
     "name": "stdout",
     "output_type": "stream",
     "text": [
      "Type: Electric\n",
      "Brand: TATA\n",
      "Battery: 75 kWh\n"
     ]
    }
   ],
   "source": [
    "# Q3. mplement a multi-level inheritance scenario where a class Vehicle has an attribute type. Derive a class Car and\n",
    "# further derive a class ElectricCar that adds a battery attribute.\n",
    "\n",
    "class Vehicle:\n",
    "    def __init__(self, vehicle_type):\n",
    "        self.type = vehicle_type\n",
    "\n",
    "class Car(Vehicle):\n",
    "    def __init__(self, vehicle_type, brand):\n",
    "        super().__init__(vehicle_type)\n",
    "        self.brand = brand\n",
    "\n",
    "class ElectricCar(Car):\n",
    "    def __init__(self, vehicle_type, brand, battery):\n",
    "        super().__init__(vehicle_type, brand)\n",
    "        self.battery = battery\n",
    "\n",
    "    def display_info(self):\n",
    "        print(f\"Type: {self.type}\")\n",
    "        print(f\"Brand: {self.brand}\")\n",
    "        print(f\"Battery: {self.battery} kWh\")\n",
    "\n",
    "e_car = ElectricCar(\"Electric\", \"TATA\", 75)\n",
    "e_car.display_info()"
   ]
  },
  {
   "cell_type": "code",
   "execution_count": 117,
   "id": "323c224b-1e5a-4def-85fa-83dda6e7120f",
   "metadata": {},
   "outputs": [
    {
     "name": "stdout",
     "output_type": "stream",
     "text": [
      "Sparrow flies high in the sky.\n",
      "Penguins cannot fly, they swim.\n"
     ]
    }
   ],
   "source": [
    "# Q4. Demonstrate polymorphism by creating a base class Bird with a method fly(). Create two derived classes Sparrow and\n",
    "# Penguin that override the fly() method.\n",
    "\n",
    "class Bird:\n",
    "    def fly(self):\n",
    "        print(\"Some birds can fly.\")\n",
    "\n",
    "class Sparrow(Bird):\n",
    "    def fly(self):\n",
    "        print(\"Sparrow flies high in the sky.\")\n",
    "\n",
    "class Penguin(Bird):\n",
    "    def fly(self):\n",
    "        print(\"Penguins cannot fly, they swim.\")\n",
    "\n",
    "def show_flying_ability(bird):\n",
    "    bird.fly()\n",
    "\n",
    "sparrow = Sparrow()\n",
    "penguin = Penguin()\n",
    "\n",
    "show_flying_ability(sparrow)  \n",
    "show_flying_ability(penguin) "
   ]
  },
  {
   "cell_type": "code",
   "execution_count": 119,
   "id": "c66da562-3586-4b03-a75b-63de54105fc3",
   "metadata": {},
   "outputs": [
    {
     "name": "stdout",
     "output_type": "stream",
     "text": [
      "Current balance: 1000\n",
      "Deposited: 500\n",
      "Withdrew: 300\n",
      "Current balance: 1200\n"
     ]
    }
   ],
   "source": [
    "# Q5. Write a program to demonstrate encapsulation by creating a class BankAccount with private attributes balance and\n",
    "# methods to deposit, withdraw, and check balance.\n",
    "\n",
    "class BankAccount:\n",
    "    def __init__(self, initial_balance=0):\n",
    "        self.__balance = initial_balance  \n",
    "\n",
    "    def deposit(self, amount):\n",
    "        if amount > 0:\n",
    "            self.__balance += amount\n",
    "            print(f\"Deposited: {amount}\")\n",
    "        else:\n",
    "            print(\"Deposit amount should be positive.\")\n",
    "\n",
    "    def withdraw(self, amount):\n",
    "        if 0 < amount <= self.__balance:\n",
    "            self.__balance -= amount\n",
    "            print(f\"Withdrew: {amount}\")\n",
    "        else:\n",
    "            print(\"Insufficient funds or invalid amount.\")\n",
    "\n",
    "    def check_balance(self):\n",
    "        print(f\"Current balance: {self.__balance}\")\n",
    "\n",
    "account = BankAccount(1000)\n",
    "\n",
    "account.check_balance()  \n",
    "account.deposit(500)     \n",
    "account.withdraw(300)    \n",
    "account.check_balance()  "
   ]
  },
  {
   "cell_type": "code",
   "execution_count": 121,
   "id": "7dc7fd8f-3bdb-4bd0-8c74-d8d515008036",
   "metadata": {},
   "outputs": [
    {
     "name": "stdout",
     "output_type": "stream",
     "text": [
      "Strumming the guitar.\n",
      "Playing the piano keys.\n"
     ]
    }
   ],
   "source": [
    "# Q6. Demonstrate runtime polymorphism using a method play() in a base class Instrument. Derive classes Guitar and Piano\n",
    "# that implement their own version of play().\n",
    "\n",
    "class Instrument:\n",
    "    def play(self):\n",
    "        print(\"The instrument is being played.\")\n",
    "\n",
    "class Guitar(Instrument):\n",
    "    def play(self):\n",
    "        print(\"Strumming the guitar.\")\n",
    "\n",
    "class Piano(Instrument):\n",
    "    def play(self):\n",
    "        print(\"Playing the piano keys.\")\n",
    "\n",
    "def perform_play(instrument):\n",
    "    instrument.play()\n",
    "\n",
    "guitar = Guitar()\n",
    "piano = Piano()\n",
    "\n",
    "perform_play(guitar)  \n",
    "perform_play(piano)  "
   ]
  },
  {
   "cell_type": "code",
   "execution_count": 123,
   "id": "f4a85ee2-9715-4023-8af9-1e0e24dcf1ae",
   "metadata": {},
   "outputs": [
    {
     "name": "stdout",
     "output_type": "stream",
     "text": [
      "Sum: 15\n",
      "Difference: 5\n"
     ]
    }
   ],
   "source": [
    "# Q7.  Create a class MathOperations with a class method add_numbers() to add two numbers and a static method\n",
    "# subtract_numbers() to subtract two numbers.\n",
    "\n",
    "class MathOperations:\n",
    "    @classmethod\n",
    "    def add_numbers(cls, num1, num2):\n",
    "        return num1 + num2\n",
    "\n",
    "    @staticmethod\n",
    "    def subtract_numbers(num1, num2):\n",
    "        return num1 - num2\n",
    "\n",
    "sum_result = MathOperations.add_numbers(10, 5)\n",
    "print(f\"Sum: {sum_result}\")  \n",
    "\n",
    "difference_result = MathOperations.subtract_numbers(10, 5)\n",
    "print(f\"Difference: {difference_result}\")"
   ]
  },
  {
   "cell_type": "code",
   "execution_count": 125,
   "id": "c3f561f6-32fd-4841-919b-5c17333ede5a",
   "metadata": {},
   "outputs": [
    {
     "name": "stdout",
     "output_type": "stream",
     "text": [
      "Total number of persons: 3\n"
     ]
    }
   ],
   "source": [
    "# Q8.  Implement a class Person with a class method to count the total number of persons created.\n",
    "\n",
    "class Person:\n",
    "    total_persons = 0\n",
    "    \n",
    "    def __init__(self, name, age):\n",
    "        self.name = name\n",
    "        self.age = age\n",
    "        Person.total_persons += 1\n",
    "\n",
    "    @classmethod\n",
    "    def count_persons(cls):\n",
    "        return cls.total_persons\n",
    "\n",
    "person1 = Person(\"Alice\", 30)\n",
    "person2 = Person(\"Bob\", 25)\n",
    "person3 = Person(\"Charlie\", 35)\n",
    "\n",
    "print(f\"Total number of persons: {Person.count_persons()}\")  "
   ]
  },
  {
   "cell_type": "code",
   "execution_count": 127,
   "id": "c97b8944-464d-44f8-be42-89c79892d6ec",
   "metadata": {},
   "outputs": [
    {
     "name": "stdout",
     "output_type": "stream",
     "text": [
      "6/9\n"
     ]
    }
   ],
   "source": [
    "# Q9.  Write a class Fraction with attributes numerator and denominator. Override the str method to display thefraction as\n",
    "# \"numerator/denominator\".\n",
    "\n",
    "class Fraction:\n",
    "    def __init__(self, numerator, denominator):\n",
    "        self.numerator = numerator\n",
    "        self.denominator = denominator\n",
    "\n",
    "    def __str__(self):\n",
    "        return f\"{self.numerator}/{self.denominator}\"\n",
    "\n",
    "fraction = Fraction(6, 9)\n",
    "\n",
    "print(fraction)"
   ]
  },
  {
   "cell_type": "code",
   "execution_count": 129,
   "id": "d40bd699-3ce9-4ee9-8dd7-dd4c08496039",
   "metadata": {},
   "outputs": [
    {
     "name": "stdout",
     "output_type": "stream",
     "text": [
      "Result of adding vectors: (4, 6)\n"
     ]
    }
   ],
   "source": [
    "# Q10. Demonstrate operator overloading by creating a class Vector and overriding the add method to add two vectors.\n",
    "\n",
    "class Vector:\n",
    "    def __init__(self, x, y):\n",
    "        self.x = x\n",
    "        self.y = y\n",
    "\n",
    "    def __add__(self, other):\n",
    "        return Vector(self.x + other.x, self.y + other.y)\n",
    "\n",
    "    def __str__(self):\n",
    "        return f\"({self.x}, {self.y})\"\n",
    "\n",
    "vector1 = Vector(1, 2)\n",
    "vector2 = Vector(3, 4)\n",
    "\n",
    "result = vector1 + vector2\n",
    "\n",
    "print(f\"Result of adding vectors: {result}\")  "
   ]
  },
  {
   "cell_type": "code",
   "execution_count": 131,
   "id": "0338701b-6629-4f4f-a5a4-e9772d43f7d3",
   "metadata": {},
   "outputs": [
    {
     "name": "stdout",
     "output_type": "stream",
     "text": [
      "Hello, my name is vishal and I am 22 years old.\n"
     ]
    }
   ],
   "source": [
    "# Q11.  Create a class Person with attributes name and age. Add a method greet() that prints \"Hello, my name is {name} and\n",
    "# I am {age} years old.\"\n",
    "\n",
    "class Person:\n",
    "    def __init__(self, name, age):\n",
    "        self.name = name\n",
    "        self.age = age\n",
    "\n",
    "    def greet(self):\n",
    "        print(f\"Hello, my name is {self.name} and I am {self.age} years old.\")\n",
    "\n",
    "person1 = Person(\"vishal\", 22)\n",
    "\n",
    "person1.greet()  "
   ]
  },
  {
   "cell_type": "code",
   "execution_count": 135,
   "id": "f8bd328b-2c70-4a3a-a521-13aa44ab04b9",
   "metadata": {},
   "outputs": [
    {
     "name": "stdout",
     "output_type": "stream",
     "text": [
      "vishal's average grade is: 86.25\n"
     ]
    }
   ],
   "source": [
    "# Q12. Implement a class Student with attributes name and grades. Create a method average_grade() to compute the average of\n",
    "# the grades.\n",
    "\n",
    "class Student:\n",
    "    def __init__(self, name, grades):\n",
    "        self.name = name\n",
    "        self.grades = grades\n",
    "\n",
    "    def average_grade(self):\n",
    "        return sum(self.grades) / len(self.grades) if self.grades else 0\n",
    "\n",
    "student1 = Student(\"vishal\", [85, 90, 78, 92])\n",
    "\n",
    "average = student1.average_grade()\n",
    "\n",
    "print(f\"{student1.name}'s average grade is: {average}\") "
   ]
  },
  {
   "cell_type": "code",
   "execution_count": 137,
   "id": "fdcd5e25-cded-4b0b-a019-81b4b1bad91c",
   "metadata": {},
   "outputs": [
    {
     "name": "stdout",
     "output_type": "stream",
     "text": [
      "The area of the rectangle is: 15\n"
     ]
    }
   ],
   "source": [
    "# Q13.  Create a class Rectangle with methods set_dimensions() to set the dimensions and area() to calculate the area.\n",
    "\n",
    "class Rectangle:\n",
    "    def __init__(self):\n",
    "        self.length = 0\n",
    "        self.width = 0\n",
    "\n",
    "    def set_dimensions(self, length, width):\n",
    "        self.length = length\n",
    "        self.width = width\n",
    "\n",
    "    def area(self):\n",
    "        return self.length * self.width\n",
    "\n",
    "rectangle = Rectangle()\n",
    "\n",
    "rectangle.set_dimensions(5, 3)\n",
    "\n",
    "area = rectangle.area()\n",
    "\n",
    "print(f\"The area of the rectangle is: {area}\")  #"
   ]
  },
  {
   "cell_type": "code",
   "execution_count": 139,
   "id": "fc9d280a-9278-4b95-a302-cf2e07133dd4",
   "metadata": {},
   "outputs": [
    {
     "name": "stdout",
     "output_type": "stream",
     "text": [
      "Employee Salary: 1000\n",
      "Manager Salary: 1700\n"
     ]
    }
   ],
   "source": [
    "# Q14. Create a class Employee with a method calculate_salary() that computes the salary based on hours worked and hourly \n",
    "# rate. Create a derived class Manager that adds a bonus to the salary.\n",
    "\n",
    "class Employee:\n",
    "    def __init__(self, name, hours_worked, hourly_rate):\n",
    "        self.name = name\n",
    "        self.hours_worked = hours_worked\n",
    "        self.hourly_rate = hourly_rate\n",
    "\n",
    "    def calculate_salary(self):\n",
    "        return self.hours_worked * self.hourly_rate\n",
    "\n",
    "class Manager(Employee):\n",
    "    def __init__(self, name, hours_worked, hourly_rate, bonus):\n",
    "        super().__init__(name, hours_worked, hourly_rate)\n",
    "        self.bonus = bonus\n",
    "\n",
    "    def calculate_salary(self):\n",
    "        base_salary = super().calculate_salary()\n",
    "        return base_salary + self.bonus\n",
    "\n",
    "employee = Employee(\"Alice\", 40, 25)\n",
    "print(f\"Employee Salary: {employee.calculate_salary()}\")  \n",
    "\n",
    "manager = Manager(\"Bob\", 40, 30, 500)\n",
    "print(f\"Manager Salary: {manager.calculate_salary()}\")  "
   ]
  },
  {
   "cell_type": "code",
   "execution_count": 141,
   "id": "d85e1781-5099-450a-9217-a4b8d4e38be3",
   "metadata": {},
   "outputs": [
    {
     "name": "stdout",
     "output_type": "stream",
     "text": [
      "The total price of Laptop is: 100000\n"
     ]
    }
   ],
   "source": [
    "# Q15. Create a class Product with attributes name, price, and quantity. Implement a method total_price() that calculates\n",
    "# the total price of the product.\n",
    "\n",
    "class Product:\n",
    "    def __init__(self, name, price, quantity):\n",
    "        self.name = name\n",
    "        self.price = price\n",
    "        self.quantity = quantity\n",
    "\n",
    "    def total_price(self):\n",
    "        return self.price * self.quantity\n",
    "\n",
    "product = Product(\"Laptop\", 50000, 2)\n",
    "\n",
    "total = product.total_price()\n",
    "\n",
    "print(f\"The total price of {product.name} is: {total}\")  "
   ]
  },
  {
   "cell_type": "code",
   "execution_count": 143,
   "id": "bf66c333-bdb6-4796-b851-fc5129473860",
   "metadata": {},
   "outputs": [
    {
     "name": "stdout",
     "output_type": "stream",
     "text": [
      "Moo\n",
      "Baa\n"
     ]
    }
   ],
   "source": [
    "# Q16. Create a class Animal with an abstract method sound(). Create two derived classes Cow and Sheep that implement the\n",
    "# sound() method.\n",
    "\n",
    "from abc import ABC, abstractmethod\n",
    "\n",
    "class Animal(ABC):\n",
    "    @abstractmethod\n",
    "    def sound(self):\n",
    "        pass\n",
    "\n",
    "class Cow(Animal):\n",
    "    def sound(self):\n",
    "        print(\"Moo\")\n",
    "\n",
    "class Sheep(Animal):\n",
    "    def sound(self):\n",
    "        print(\"Baa\")\n",
    "\n",
    "cow = Cow()\n",
    "sheep = Sheep()\n",
    "\n",
    "cow.sound() \n",
    "sheep.sound() "
   ]
  },
  {
   "cell_type": "code",
   "execution_count": 145,
   "id": "7f76bab7-ff0f-493e-97f7-cede348f10e3",
   "metadata": {},
   "outputs": [
    {
     "name": "stdout",
     "output_type": "stream",
     "text": [
      "'1984' by George Orwell, published in 1949\n"
     ]
    }
   ],
   "source": [
    "# Q17.  Create a class Book with attributes title, author, and year_published. Add a method get_book_info() that returns a\n",
    "# formatted string with the book's details.\n",
    "\n",
    "class Book:\n",
    "    def __init__(self, title, author, year_published):\n",
    "        self.title = title\n",
    "        self.author = author\n",
    "        self.year_published = year_published\n",
    "\n",
    "    def get_book_info(self):\n",
    "        return f\"'{self.title}' by {self.author}, published in {self.year_published}\"\n",
    "\n",
    "book1 = Book(\"1984\", \"George Orwell\", 1949)\n",
    "\n",
    "book_info = book1.get_book_info()\n",
    "\n",
    "print(book_info)  "
   ]
  },
  {
   "cell_type": "code",
   "execution_count": 147,
   "id": "fa39f557-7139-450e-9990-720c3bea5f30",
   "metadata": {},
   "outputs": [
    {
     "name": "stdout",
     "output_type": "stream",
     "text": [
      "Address: 123 Ram Nagar, Price: $250000\n",
      "Address: 456 Oak Bhavan, Price: $5000000, Number of Rooms: 10\n"
     ]
    }
   ],
   "source": [
    "# Q18. Create a class House with attributes address and price. Create a derived class Mansion that adds an attribute \n",
    "# number_of_rooms.\n",
    "\n",
    "class House:\n",
    "    def __init__(self, address, price):\n",
    "        self.address = address\n",
    "        self.price = price\n",
    "\n",
    "    def get_details(self):\n",
    "        return f\"Address: {self.address}, Price: ${self.price}\"\n",
    "\n",
    "class Mansion(House):\n",
    "    def __init__(self, address, price, number_of_rooms):\n",
    "        super().__init__(address, price)\n",
    "        self.number_of_rooms = number_of_rooms\n",
    "\n",
    "    def get_mansion_details(self):\n",
    "        return f\"{self.get_details()}, Number of Rooms: {self.number_of_rooms}\"\n",
    "\n",
    "house = House(\"123 Ram Nagar\", 250000)\n",
    "print(house.get_details())  \n",
    "\n",
    "mansion = Mansion(\"456 Oak Bhavan\", 5000000, 10)\n",
    "print(mansion.get_mansion_details())  "
   ]
  }
 ],
 "metadata": {
  "kernelspec": {
   "display_name": "Python [conda env:base] *",
   "language": "python",
   "name": "conda-base-py"
  },
  "language_info": {
   "codemirror_mode": {
    "name": "ipython",
    "version": 3
   },
   "file_extension": ".py",
   "mimetype": "text/x-python",
   "name": "python",
   "nbconvert_exporter": "python",
   "pygments_lexer": "ipython3",
   "version": "3.12.7"
  }
 },
 "nbformat": 4,
 "nbformat_minor": 5
}
